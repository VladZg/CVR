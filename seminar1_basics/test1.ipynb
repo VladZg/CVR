{
 "cells": [
  {
   "cell_type": "code",
   "execution_count": 7,
   "metadata": {},
   "outputs": [
    {
     "data": {
      "text/plain": [
       "-1"
      ]
     },
     "execution_count": 7,
     "metadata": {},
     "output_type": "execute_result"
    }
   ],
   "source": [
    "import cv2\n",
    "\n",
    "cam = cv2.VideoCapture(0)\n",
    "\n",
    "i = 0\n",
    "\n",
    "while(True):\n",
    "    success, image = cam.read()\n",
    "\n",
    "    #print(frame.shape, type(frame[100, 300, 2]))\n",
    "\n",
    "    # frame[100:400, 300:500, :]\n",
    "    flipped_image = cv2.flip(image,1)\n",
    "    i += 1\n",
    "\n",
    "    cv2.imshow(\"flipped_image\", flipped_image)\n",
    "\n",
    "    key = cv2.waitKey(30) & 0xFF\n",
    "\n",
    "    if (key == ord('q')):\n",
    "        break\n",
    "\n",
    "cam.release()\n",
    "cv2.destroyAllWindows()\n",
    "cv2.waitKey(10)"
   ]
  }
 ],
 "metadata": {
  "kernelspec": {
   "display_name": "Python 3 (ipykernel)",
   "language": "python",
   "name": "python3"
  },
  "language_info": {
   "codemirror_mode": {
    "name": "ipython",
    "version": 3
   },
   "file_extension": ".py",
   "mimetype": "text/x-python",
   "name": "python",
   "nbconvert_exporter": "python",
   "pygments_lexer": "ipython3",
   "version": "3.10.12"
  }
 },
 "nbformat": 4,
 "nbformat_minor": 4
}
